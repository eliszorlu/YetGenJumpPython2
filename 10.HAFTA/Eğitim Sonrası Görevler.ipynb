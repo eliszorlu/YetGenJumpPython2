{
 "cells": [
  {
   "cell_type": "code",
   "execution_count": null,
   "metadata": {},
   "outputs": [],
   "source": []
  }
 ],
 "metadata": {
  "kernelspec": {
   "display_name": "Python 3",
   "language": "python",
   "name": "python3"
  },
  "language_info": {
   "name": "python",
   "version": "3.11.1"
  },
  "orig_nbformat": 4,
  "vscode": {
   "interpreter": {
    "hash": "f76608c100b381619603dd1903996100ad32bf385585d77790d659cea8a1d051"
   }
  }
 },
 "nbformat": 4,
 "nbformat_minor": 2
}
